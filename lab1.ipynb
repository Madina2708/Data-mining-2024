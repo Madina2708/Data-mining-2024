{
 "cells": [
  {
   "cell_type": "code",
   "execution_count": 130,
   "id": "247f82d1",
   "metadata": {},
   "outputs": [],
   "source": [
    "import pandas as pd\n",
    "import numpy as np\n",
    "from sklearn.model_selection import train_test_split\n",
    "from sklearn.preprocessing import StandardScaler, MinMaxScaler, OneHotEncoder\n",
    "from sklearn.pipeline import Pipeline\n",
    "from sklearn.compose import ColumnTransformer\n",
    "from sklearn.impute import SimpleImputer\n",
    "from scipy import stats\n",
    "from sklearn.pipeline import Pipeline\n",
    "import matplotlib.pyplot as plt"
   ]
  },
  {
   "cell_type": "code",
   "execution_count": 131,
   "id": "aa4b9c26",
   "metadata": {},
   "outputs": [],
   "source": [
    "df = pd.read_csv('/Users/madinayelmuratova/Desktop/dataset.csv')"
   ]
  },
  {
   "cell_type": "code",
   "execution_count": 132,
   "id": "ae05d654",
   "metadata": {},
   "outputs": [
    {
     "name": "stdout",
     "output_type": "stream",
     "text": [
      "   age  sex  cp  trestbps  chol  fbs  restecg  thalach  exang  oldpeak  slope  \\\n",
      "0   63    1   3       145   233    1        0      150      0      2.3      0   \n",
      "1   37    1   2       130   250    0        1      187      0      3.5      0   \n",
      "2   41    0   1       130   204    0        0      172      0      1.4      2   \n",
      "3   56    1   1       120   236    0        1      178      0      0.8      2   \n",
      "4   57    0   0       120   354    0        1      163      1      0.6      2   \n",
      "\n",
      "   ca  thal  target  \n",
      "0   0     1       1  \n",
      "1   0     2       1  \n",
      "2   0     2       1  \n",
      "3   0     2       1  \n",
      "4   0     2       1  \n"
     ]
    }
   ],
   "source": [
    "print(df.head())"
   ]
  },
  {
   "cell_type": "code",
   "execution_count": 133,
   "id": "b2304243",
   "metadata": {},
   "outputs": [
    {
     "name": "stdout",
     "output_type": "stream",
     "text": [
      "     age  sex  cp  trestbps  chol  fbs  restecg  thalach  exang  oldpeak  \\\n",
      "298   57    0   0       140   241    0        1      123      1      0.2   \n",
      "299   45    1   3       110   264    0        1      132      0      1.2   \n",
      "300   68    1   0       144   193    1        1      141      0      3.4   \n",
      "301   57    1   0       130   131    0        1      115      1      1.2   \n",
      "302   57    0   1       130   236    0        0      174      0      0.0   \n",
      "\n",
      "     slope  ca  thal  target  \n",
      "298      1   0     3       0  \n",
      "299      1   0     3       0  \n",
      "300      1   2     3       0  \n",
      "301      1   1     3       0  \n",
      "302      1   1     2       0  \n",
      "<class 'pandas.core.frame.DataFrame'>\n",
      "RangeIndex: 303 entries, 0 to 302\n",
      "Data columns (total 14 columns):\n",
      " #   Column    Non-Null Count  Dtype  \n",
      "---  ------    --------------  -----  \n",
      " 0   age       303 non-null    int64  \n",
      " 1   sex       303 non-null    int64  \n",
      " 2   cp        303 non-null    int64  \n",
      " 3   trestbps  303 non-null    int64  \n",
      " 4   chol      303 non-null    int64  \n",
      " 5   fbs       303 non-null    int64  \n",
      " 6   restecg   303 non-null    int64  \n",
      " 7   thalach   303 non-null    int64  \n",
      " 8   exang     303 non-null    int64  \n",
      " 9   oldpeak   303 non-null    float64\n",
      " 10  slope     303 non-null    int64  \n",
      " 11  ca        303 non-null    int64  \n",
      " 12  thal      303 non-null    int64  \n",
      " 13  target    303 non-null    int64  \n",
      "dtypes: float64(1), int64(13)\n",
      "memory usage: 33.3 KB\n",
      "None\n"
     ]
    }
   ],
   "source": [
    "print(df.tail())\n",
    "print(df.info())"
   ]
  },
  {
   "cell_type": "code",
   "execution_count": 134,
   "id": "a4b0b5d6",
   "metadata": {},
   "outputs": [
    {
     "name": "stdout",
     "output_type": "stream",
     "text": [
      "age         0\n",
      "sex         0\n",
      "cp          0\n",
      "trestbps    0\n",
      "chol        0\n",
      "fbs         0\n",
      "restecg     0\n",
      "thalach     0\n",
      "exang       0\n",
      "oldpeak     0\n",
      "slope       0\n",
      "ca          0\n",
      "thal        0\n",
      "target      0\n",
      "dtype: int64\n",
      "age           int64\n",
      "sex           int64\n",
      "cp            int64\n",
      "trestbps      int64\n",
      "chol          int64\n",
      "fbs           int64\n",
      "restecg       int64\n",
      "thalach       int64\n",
      "exang         int64\n",
      "oldpeak     float64\n",
      "slope         int64\n",
      "ca            int64\n",
      "thal          int64\n",
      "target        int64\n",
      "dtype: object\n"
     ]
    }
   ],
   "source": [
    "# Проверяем пропущенные значения и типы данных\n",
    "print(df.isnull().sum())\n",
    "print(df.dtypes)"
   ]
  },
  {
   "cell_type": "code",
   "execution_count": 135,
   "id": "68f8241c",
   "metadata": {},
   "outputs": [
    {
     "name": "stdout",
     "output_type": "stream",
     "text": [
      "Перед удалением пропущенных значений:\n",
      "age         0\n",
      "sex         0\n",
      "cp          0\n",
      "trestbps    0\n",
      "chol        0\n",
      "fbs         0\n",
      "restecg     0\n",
      "thalach     0\n",
      "exang       0\n",
      "oldpeak     0\n",
      "slope       0\n",
      "ca          0\n",
      "thal        0\n",
      "target      0\n",
      "dtype: int64\n"
     ]
    }
   ],
   "source": [
    "print(\"Перед удалением пропущенных значений:\")\n",
    "print(df.isnull().sum())\n",
    "\n"
   ]
  },
  {
   "cell_type": "code",
   "execution_count": 136,
   "id": "a874c960",
   "metadata": {},
   "outputs": [
    {
     "name": "stdout",
     "output_type": "stream",
     "text": [
      "После удаления пропущенных значений:\n",
      "age         0\n",
      "sex         0\n",
      "cp          0\n",
      "trestbps    0\n",
      "chol        0\n",
      "fbs         0\n",
      "restecg     0\n",
      "thalach     0\n",
      "exang       0\n",
      "oldpeak     0\n",
      "slope       0\n",
      "ca          0\n",
      "thal        0\n",
      "target      0\n",
      "dtype: int64\n"
     ]
    }
   ],
   "source": [
    "df_dropped = df.dropna()\n",
    "print(\"После удаления пропущенных значений:\")\n",
    "print(df_dropped.isnull().sum())\n",
    "\n"
   ]
  },
  {
   "cell_type": "code",
   "execution_count": 137,
   "id": "b2a2eab2",
   "metadata": {},
   "outputs": [
    {
     "name": "stdout",
     "output_type": "stream",
     "text": [
      "age         0\n",
      "sex         0\n",
      "cp          0\n",
      "trestbps    0\n",
      "chol        0\n",
      "fbs         0\n",
      "restecg     0\n",
      "thalach     0\n",
      "exang       0\n",
      "oldpeak     0\n",
      "slope       0\n",
      "ca          0\n",
      "thal        0\n",
      "target      0\n",
      "dtype: int64\n"
     ]
    }
   ],
   "source": [
    "df_filled = df.fillna(df.mean())  # Заполнение средним\n",
    "print(df_filled.isnull().sum())"
   ]
  },
  {
   "cell_type": "code",
   "execution_count": 138,
   "id": "8258a85e",
   "metadata": {},
   "outputs": [
    {
     "name": "stdout",
     "output_type": "stream",
     "text": [
      "age         0\n",
      "sex         0\n",
      "cp          0\n",
      "trestbps    0\n",
      "chol        0\n",
      "fbs         0\n",
      "restecg     0\n",
      "thalach     0\n",
      "exang       0\n",
      "oldpeak     0\n",
      "slope       0\n",
      "ca          0\n",
      "thal        0\n",
      "target      0\n",
      "dtype: int64\n"
     ]
    }
   ],
   "source": [
    "# Заполнение значений frwrd\n",
    "df_ffill = df.ffill()\n",
    "print(df_ffill.isnull().sum())"
   ]
  },
  {
   "cell_type": "code",
   "execution_count": 139,
   "id": "726900aa",
   "metadata": {},
   "outputs": [
    {
     "name": "stdout",
     "output_type": "stream",
     "text": [
      "age         0\n",
      "sex         0\n",
      "cp          0\n",
      "trestbps    0\n",
      "chol        0\n",
      "fbs         0\n",
      "restecg     0\n",
      "thalach     0\n",
      "exang       0\n",
      "oldpeak     0\n",
      "slope       0\n",
      "ca          0\n",
      "thal        0\n",
      "target      0\n",
      "dtype: int64\n"
     ]
    }
   ],
   "source": [
    "df_bfill = df.bfill()\n",
    "print(df_bfill.isnull().sum())"
   ]
  },
  {
   "cell_type": "code",
   "execution_count": 140,
   "id": "aad9f85f",
   "metadata": {},
   "outputs": [
    {
     "name": "stdout",
     "output_type": "stream",
     "text": [
      "        age  sex  cp  trestbps      chol  fbs  restecg   thalach  exang  \\\n",
      "0  0.708333    1   3  0.481132  0.244292    1        0  0.603053      0   \n",
      "1  0.166667    1   2  0.339623  0.283105    0        1  0.885496      0   \n",
      "2  0.250000    0   1  0.339623  0.178082    0        0  0.770992      0   \n",
      "3  0.562500    1   1  0.245283  0.251142    0        1  0.816794      0   \n",
      "4  0.583333    0   0  0.245283  0.520548    0        1  0.702290      1   \n",
      "\n",
      "    oldpeak  slope   ca  thal  target  \n",
      "0  0.370968      0  0.0     1       1  \n",
      "1  0.564516      0  0.0     2       1  \n",
      "2  0.225806      2  0.0     2       1  \n",
      "3  0.129032      2  0.0     2       1  \n",
      "4  0.096774      2  0.0     2       1  \n"
     ]
    }
   ],
   "source": [
    "# Определение числовых признаков\n",
    "numerical_features = ['age', 'trestbps', 'chol', 'thalach', 'oldpeak', 'ca']\n",
    "\n",
    "# Нормализация числовых признаков\n",
    "min_max_scaler = MinMaxScaler()\n",
    "df[numerical_features] = min_max_scaler.fit_transform(df[numerical_features])\n",
    "\n",
    "print(df.head())\n",
    "\n"
   ]
  },
  {
   "cell_type": "code",
   "execution_count": 141,
   "id": "fd55e99b",
   "metadata": {},
   "outputs": [
    {
     "name": "stdout",
     "output_type": "stream",
     "text": [
      "        age  trestbps      chol   thalach   oldpeak   ca  target  sex_1  cp_1  \\\n",
      "0  0.708333  0.481132  0.244292  0.603053  0.370968  0.0       1      1     0   \n",
      "1  0.166667  0.339623  0.283105  0.885496  0.564516  0.0       1      1     0   \n",
      "2  0.250000  0.339623  0.178082  0.770992  0.225806  0.0       1      0     1   \n",
      "3  0.562500  0.245283  0.251142  0.816794  0.129032  0.0       1      1     1   \n",
      "4  0.583333  0.245283  0.520548  0.702290  0.096774  0.0       1      0     0   \n",
      "\n",
      "   cp_2  cp_3  fbs_1  restecg_1  restecg_2  exang_1  slope_1  slope_2  thal_1  \\\n",
      "0     0     1      1          0          0        0        0        0       1   \n",
      "1     1     0      0          1          0        0        0        0       0   \n",
      "2     0     0      0          0          0        0        0        1       0   \n",
      "3     0     0      0          1          0        0        0        1       0   \n",
      "4     0     0      0          1          0        1        0        1       0   \n",
      "\n",
      "   thal_2  thal_3  \n",
      "0       0       0  \n",
      "1       1       0  \n",
      "2       1       0  \n",
      "3       1       0  \n",
      "4       1       0  \n"
     ]
    }
   ],
   "source": [
    "# Определение категориальных признаков\n",
    "categorical_features = ['sex', 'cp', 'fbs', 'restecg', 'exang', 'slope', 'thal']\n",
    "\n",
    "# Кодирование категориальных признаков\n",
    "df_encoded = pd.get_dummies(df, columns=categorical_features, drop_first=True)\n",
    "\n",
    "print(df_encoded.head())"
   ]
  },
  {
   "cell_type": "code",
   "execution_count": 142,
   "id": "fe971255",
   "metadata": {},
   "outputs": [
    {
     "name": "stdout",
     "output_type": "stream",
     "text": [
      "        age  trestbps      chol   thalach   oldpeak   ca  target  sex_1  cp_1  \\\n",
      "0  0.708333  0.481132  0.244292  0.603053  0.370968  0.0       1      1     0   \n",
      "1  0.166667  0.339623  0.283105  0.885496  0.564516  0.0       1      1     0   \n",
      "2  0.250000  0.339623  0.178082  0.770992  0.225806  0.0       1      0     1   \n",
      "3  0.562500  0.245283  0.251142  0.816794  0.129032  0.0       1      1     1   \n",
      "4  0.583333  0.245283  0.520548  0.702290  0.096774  0.0       1      0     0   \n",
      "\n",
      "   cp_2  ...  fbs_1  restecg_1  restecg_2  exang_1  slope_1  slope_2  thal_1  \\\n",
      "0     0  ...      1          0          0        0        0        0       1   \n",
      "1     1  ...      0          1          0        0        0        0       0   \n",
      "2     0  ...      0          0          0        0        0        1       0   \n",
      "3     0  ...      0          1          0        0        0        1       0   \n",
      "4     0  ...      0          1          0        1        0        1       0   \n",
      "\n",
      "   thal_2  thal_3  age_bins  \n",
      "0       0       0       NaN  \n",
      "1       1       0       NaN  \n",
      "2       1       0       NaN  \n",
      "3       1       0       NaN  \n",
      "4       1       0       NaN  \n",
      "\n",
      "[5 rows x 21 columns]\n"
     ]
    }
   ],
   "source": [
    "# Бинирование переменной age\n",
    "df_encoded['age_bins'] = pd.cut(df_encoded['age'], bins=[20, 30, 40, 50, 60, 70, 80], labels=['20-30', '30-40', '40-50', '50-60', '60-70', '70-80'])\n",
    "\n",
    "print(df_encoded.head())"
   ]
  },
  {
   "cell_type": "code",
   "execution_count": 143,
   "id": "c8e644da",
   "metadata": {},
   "outputs": [
    {
     "name": "stdout",
     "output_type": "stream",
     "text": [
      "        age  sex  cp  trestbps      chol  fbs  restecg   thalach  exang  \\\n",
      "0  0.708333    1   3  0.481132  0.244292    1        0  0.603053      0   \n",
      "1  0.166667    1   2  0.339623  0.283105    0        1  0.885496      0   \n",
      "2  0.250000    0   1  0.339623  0.178082    0        0  0.770992      0   \n",
      "3  0.562500    1   1  0.245283  0.251142    0        1  0.816794      0   \n",
      "4  0.583333    0   0  0.245283  0.520548    0        1  0.702290      1   \n",
      "\n",
      "    oldpeak  slope   ca  thal  target  chol_age_interaction  age_squared  \\\n",
      "0  0.370968      0  0.0     1       1              0.173040     0.501736   \n",
      "1  0.564516      0  0.0     2       1              0.047184     0.027778   \n",
      "2  0.225806      2  0.0     2       1              0.044521     0.062500   \n",
      "3  0.129032      2  0.0     2       1              0.141267     0.316406   \n",
      "4  0.096774      2  0.0     2       1              0.303653     0.340278   \n",
      "\n",
      "   chol_squared  high_risk  \n",
      "0      0.059679          0  \n",
      "1      0.080148          0  \n",
      "2      0.031713          0  \n",
      "3      0.063072          0  \n",
      "4      0.270970          0  \n"
     ]
    }
   ],
   "source": [
    "# Создание новых признаков\n",
    "df['chol_age_interaction'] = df['chol'] * df['age']\n",
    "df['age_squared'] = df['age'] ** 2\n",
    "df['chol_squared'] = df['chol'] ** 2\n",
    "\n",
    "# высокий риск\n",
    "df['high_risk'] = ((df['chol'] > 240) | (df['trestbps'] > 140) | (df['oldpeak'] > 1.0)).astype(int)\n",
    "\n",
    "print(df.head())"
   ]
  },
  {
   "cell_type": "code",
   "execution_count": 144,
   "id": "1bec81c5",
   "metadata": {},
   "outputs": [
    {
     "name": "stdout",
     "output_type": "stream",
     "text": [
      "        age  sex  cp  trestbps      chol  fbs  restecg   thalach  exang  \\\n",
      "0  0.708333    1   3  0.481132  0.244292    1        0  0.603053      0   \n",
      "1  0.166667    1   2  0.339623  0.283105    0        1  0.885496      0   \n",
      "2  0.250000    0   1  0.339623  0.178082    0        0  0.770992      0   \n",
      "3  0.562500    1   1  0.245283  0.251142    0        1  0.816794      0   \n",
      "4  0.583333    0   0  0.245283  0.520548    0        1  0.702290      1   \n",
      "\n",
      "    oldpeak  slope   ca  thal  target  chol_age_interaction  age_squared  \\\n",
      "0  0.370968      0  0.0     1       1              0.173040     0.501736   \n",
      "1  0.564516      0  0.0     2       1              0.047184     0.027778   \n",
      "2  0.225806      2  0.0     2       1              0.044521     0.062500   \n",
      "3  0.129032      2  0.0     2       1              0.141267     0.316406   \n",
      "4  0.096774      2  0.0     2       1              0.303653     0.340278   \n",
      "\n",
      "   chol_squared  high_risk  high_risk_interaction  \n",
      "0      0.059679          0                      0  \n",
      "1      0.080148          0                      0  \n",
      "2      0.031713          0                      0  \n",
      "3      0.063072          0                      0  \n",
      "4      0.270970          0                      0  \n"
     ]
    }
   ],
   "source": [
    "# Признак взаимодействия высокого холестерина и высокого давления\n",
    "df['high_risk_interaction'] = ((df['chol'] > 240) & (df['trestbps'] > 140)).astype(int)\n",
    "print(df.head())"
   ]
  },
  {
   "cell_type": "code",
   "execution_count": 145,
   "id": "c213d68c",
   "metadata": {},
   "outputs": [
    {
     "name": "stdout",
     "output_type": "stream",
     "text": [
      "        age  sex  cp  trestbps      chol  fbs  restecg   thalach  exang  \\\n",
      "0  0.708333    1   3  0.481132  0.244292    1        0  0.603053      0   \n",
      "1  0.166667    1   2  0.339623  0.283105    0        1  0.885496      0   \n",
      "2  0.250000    0   1  0.339623  0.178082    0        0  0.770992      0   \n",
      "3  0.562500    1   1  0.245283  0.251142    0        1  0.816794      0   \n",
      "4  0.583333    0   0  0.245283  0.520548    0        1  0.702290      1   \n",
      "\n",
      "    oldpeak  slope   ca  thal  target  chol_age_interaction  age_squared  \\\n",
      "0  0.370968      0  0.0     1       1              0.173040     0.501736   \n",
      "1  0.564516      0  0.0     2       1              0.047184     0.027778   \n",
      "2  0.225806      2  0.0     2       1              0.044521     0.062500   \n",
      "3  0.129032      2  0.0     2       1              0.141267     0.316406   \n",
      "4  0.096774      2  0.0     2       1              0.303653     0.340278   \n",
      "\n",
      "   chol_squared  high_risk  high_risk_interaction age_bins  \n",
      "0      0.059679          0                      0      NaN  \n",
      "1      0.080148          0                      0      NaN  \n",
      "2      0.031713          0                      0      NaN  \n",
      "3      0.063072          0                      0      NaN  \n",
      "4      0.270970          0                      0      NaN  \n"
     ]
    }
   ],
   "source": [
    "\n",
    "df['age_bins'] = pd.cut(df['age'], bins=[20, 30, 40, 50, 60, 70, 80], labels=['20-30', '30-40', '40-50', '50-60', '60-70', '70-80'])\n",
    "\n",
    "print(df.head())"
   ]
  },
  {
   "cell_type": "code",
   "execution_count": 146,
   "id": "6aaf6773",
   "metadata": {},
   "outputs": [
    {
     "name": "stdout",
     "output_type": "stream",
     "text": [
      "        age  sex  cp  trestbps      chol  fbs  restecg   thalach  exang  \\\n",
      "0  0.708333    1   3  0.481132  0.244292    1        0  0.603053      0   \n",
      "1  0.166667    1   2  0.339623  0.283105    0        1  0.885496      0   \n",
      "2  0.250000    0   1  0.339623  0.178082    0        0  0.770992      0   \n",
      "3  0.562500    1   1  0.245283  0.251142    0        1  0.816794      0   \n",
      "4  0.583333    0   0  0.245283  0.520548    0        1  0.702290      1   \n",
      "\n",
      "    oldpeak  slope   ca  thal  target  chol_age_interaction  age_squared  \\\n",
      "0  0.370968      0  0.0     1       1              0.173040     0.501736   \n",
      "1  0.564516      0  0.0     2       1              0.047184     0.027778   \n",
      "2  0.225806      2  0.0     2       1              0.044521     0.062500   \n",
      "3  0.129032      2  0.0     2       1              0.141267     0.316406   \n",
      "4  0.096774      2  0.0     2       1              0.303653     0.340278   \n",
      "\n",
      "   chol_squared  high_risk  high_risk_interaction age_bins  \n",
      "0      0.059679          0                      0      NaN  \n",
      "1      0.080148          0                      0      NaN  \n",
      "2      0.031713          0                      0      NaN  \n",
      "3      0.063072          0                      0      NaN  \n",
      "4      0.270970          0                      0      NaN  \n"
     ]
    }
   ],
   "source": [
    "# полиномиальные признаки\n",
    "df['age_squared'] = df['age'] ** 2\n",
    "df['chol_squared'] = df['chol'] ** 2\n",
    "\n",
    "print(df.head())"
   ]
  },
  {
   "cell_type": "code",
   "execution_count": 147,
   "id": "a944d923",
   "metadata": {},
   "outputs": [
    {
     "name": "stdout",
     "output_type": "stream",
     "text": [
      "Количество строк после удаления дубликатов: 302\n"
     ]
    }
   ],
   "source": [
    "df = df.drop_duplicates()\n",
    "\n",
    "print(f\"Количество строк после удаления дубликатов: {len(df)}\")\n"
   ]
  },
  {
   "cell_type": "code",
   "execution_count": 148,
   "id": "1e68ce10",
   "metadata": {},
   "outputs": [],
   "source": [
    "# Выбираем числовые признаки\n",
    "numerical_features = ['age', 'trestbps', 'chol', 'thalach', 'oldpeak', 'ca']"
   ]
  },
  {
   "cell_type": "code",
   "execution_count": 149,
   "id": "5573b312",
   "metadata": {},
   "outputs": [
    {
     "name": "stdout",
     "output_type": "stream",
     "text": [
      "Количество строк после удаления выбросов по Z-оценке: 289\n"
     ]
    }
   ],
   "source": [
    "# Метод Z-оценки\n",
    "z_scores = stats.zscore(df[numerical_features])\n",
    "df_z_cleaned = df[(abs(z_scores) < 3).all(axis=1)]\n",
    "print(f\"Количество строк после удаления выбросов по Z-оценке: {len(df_z_cleaned)}\")\n"
   ]
  },
  {
   "cell_type": "code",
   "execution_count": 150,
   "id": "9c2c1472",
   "metadata": {},
   "outputs": [],
   "source": [
    "# Приведение текстовых значений к единому формату\n",
    "df_cleaned = df_z_cleaned.copy()  # набор данных после Z-оценки\n"
   ]
  },
  {
   "cell_type": "code",
   "execution_count": 151,
   "id": "36b3d9af",
   "metadata": {},
   "outputs": [],
   "source": [
    "#стандартизации текстовых данных для столбца\n",
    "df_cleaned['sex'] = df_cleaned['sex'].map({0: 'female', 1: 'male'}).str.lower()"
   ]
  },
  {
   "cell_type": "code",
   "execution_count": 152,
   "id": "89ab7283",
   "metadata": {},
   "outputs": [],
   "source": [
    "# Пример объединения категорий для столбца 'cp' (chest pain type)\n",
    "df_cleaned['cp'] = df_cleaned['cp'].replace({\n",
    "    1: 'typical angina', \n",
    "    2: 'atypical angina', \n",
    "    3: 'non-anginal pain', \n",
    "    4: 'asymptomatic'\n",
    "}).str.lower()"
   ]
  },
  {
   "cell_type": "code",
   "execution_count": 153,
   "id": "90a54fd9",
   "metadata": {},
   "outputs": [
    {
     "name": "stdout",
     "output_type": "stream",
     "text": [
      "Количество строк после полной очистки данных: 289\n",
      "        age     sex                cp  trestbps      chol  fbs  restecg  \\\n",
      "0  0.708333    male  non-anginal pain  0.481132  0.244292    1        0   \n",
      "1  0.166667    male   atypical angina  0.339623  0.283105    0        1   \n",
      "2  0.250000  female    typical angina  0.339623  0.178082    0        0   \n",
      "3  0.562500    male    typical angina  0.245283  0.251142    0        1   \n",
      "4  0.583333  female               NaN  0.245283  0.520548    0        1   \n",
      "\n",
      "    thalach  exang   oldpeak  slope   ca  thal  target  chol_age_interaction  \\\n",
      "0  0.603053      0  0.370968      0  0.0     1       1              0.173040   \n",
      "1  0.885496      0  0.564516      0  0.0     2       1              0.047184   \n",
      "2  0.770992      0  0.225806      2  0.0     2       1              0.044521   \n",
      "3  0.816794      0  0.129032      2  0.0     2       1              0.141267   \n",
      "4  0.702290      1  0.096774      2  0.0     2       1              0.303653   \n",
      "\n",
      "   age_squared  chol_squared  high_risk  high_risk_interaction age_bins  \n",
      "0     0.501736      0.059679          0                      0      NaN  \n",
      "1     0.027778      0.080148          0                      0      NaN  \n",
      "2     0.062500      0.031713          0                      0      NaN  \n",
      "3     0.316406      0.063072          0                      0      NaN  \n",
      "4     0.340278      0.270970          0                      0      NaN  \n"
     ]
    }
   ],
   "source": [
    "print(f\"Количество строк после полной очистки данных: {len(df_cleaned)}\")\n",
    "print(df_cleaned.head())"
   ]
  },
  {
   "cell_type": "code",
   "execution_count": 154,
   "id": "55602982",
   "metadata": {},
   "outputs": [],
   "source": [
    " # Сохранение очищенного набора данных в файл\n",
    "df_cleaned.to_csv('heart_cleaned.csv', index=False)\n"
   ]
  },
  {
   "cell_type": "code",
   "execution_count": 155,
   "id": "9c471da2",
   "metadata": {},
   "outputs": [
    {
     "name": "stdout",
     "output_type": "stream",
     "text": [
      "        age     sex                cp  trestbps      chol  fbs  restecg  \\\n",
      "0  0.708333    male  non-anginal pain  0.481132  0.244292    1        0   \n",
      "1  0.166667    male   atypical angina  0.339623  0.283105    0        1   \n",
      "2  0.250000  female    typical angina  0.339623  0.178082    0        0   \n",
      "3  0.562500    male    typical angina  0.245283  0.251142    0        1   \n",
      "4  0.583333  female               NaN  0.245283  0.520548    0        1   \n",
      "\n",
      "    thalach  exang   oldpeak  slope   ca  thal  target  chol_age_interaction  \\\n",
      "0  0.603053      0  0.370968      0  0.0     1       1              0.173040   \n",
      "1  0.885496      0  0.564516      0  0.0     2       1              0.047184   \n",
      "2  0.770992      0  0.225806      2  0.0     2       1              0.044521   \n",
      "3  0.816794      0  0.129032      2  0.0     2       1              0.141267   \n",
      "4  0.702290      1  0.096774      2  0.0     2       1              0.303653   \n",
      "\n",
      "   age_squared  chol_squared  high_risk  high_risk_interaction  age_bins  \n",
      "0     0.501736      0.059679          0                      0       NaN  \n",
      "1     0.027778      0.080148          0                      0       NaN  \n",
      "2     0.062500      0.031713          0                      0       NaN  \n",
      "3     0.316406      0.063072          0                      0       NaN  \n",
      "4     0.340278      0.270970          0                      0       NaN  \n"
     ]
    }
   ],
   "source": [
    "df = pd.read_csv('heart_cleaned.csv')\n",
    "\n",
    "# Проверка первых строк загруженного набора данных\n",
    "print(df.head())"
   ]
  },
  {
   "cell_type": "code",
   "execution_count": 156,
   "id": "d4f9de8a",
   "metadata": {},
   "outputs": [
    {
     "name": "stdout",
     "output_type": "stream",
     "text": [
      "['male' 'female']\n"
     ]
    }
   ],
   "source": [
    "# Проверка уникальных значений в категориальном признаке 'sex'\n",
    "print(df_cleaned['sex'].unique())"
   ]
  },
  {
   "cell_type": "code",
   "execution_count": 157,
   "id": "69ba5e81",
   "metadata": {},
   "outputs": [],
   "source": [
    "from sklearn.preprocessing import StandardScaler, OneHotEncoder\n",
    "from sklearn.compose import ColumnTransformer\n",
    "from sklearn.pipeline import Pipeline\n",
    "X = df.drop(columns=['target'])  # Все признаки (фичи)\n",
    "y = df['target']  # Целевая переменная\n"
   ]
  },
  {
   "cell_type": "code",
   "execution_count": 158,
   "id": "b68f8c08",
   "metadata": {},
   "outputs": [
    {
     "name": "stdout",
     "output_type": "stream",
     "text": [
      "Обучающая выборка (80-20): (231, 19), Тестовая выборка: (58, 19)\n"
     ]
    }
   ],
   "source": [
    "#  (80-20)\n",
    "X_train_80, X_test_80, y_train_80, y_test_80 = train_test_split(X, y, test_size=0.2, random_state=42)\n",
    "print(f\"Обучающая выборка (80-20): {X_train_80.shape}, Тестовая выборка: {X_test_80.shape}\")"
   ]
  },
  {
   "cell_type": "code",
   "execution_count": 166,
   "id": "8a37665e",
   "metadata": {},
   "outputs": [
    {
     "name": "stdout",
     "output_type": "stream",
     "text": [
      "Обучающая выборка (70-30): (202, 19), Тестовая выборка: (87, 19)\n"
     ]
    }
   ],
   "source": [
    "# (70-30)\n",
    "X_train_70, X_test_70, y_train_70, y_test_70 = train_test_split(X, y, test_size=0.3, random_state=42)\n",
    "print(f\"Обучающая выборка (70-30): {X_train_70.shape}, Тестовая выборка: {X_test_70.shape}\")"
   ]
  },
  {
   "cell_type": "code",
   "execution_count": 171,
   "id": "1135c592",
   "metadata": {},
   "outputs": [],
   "source": [
    "numerical_features = ['age', 'trestbps', 'chol', 'thalach', 'oldpeak', 'ca']\n",
    "categorical_features = ['sex', 'cp', 'fbs', 'restecg', 'exang', 'slope', 'thal']"
   ]
  },
  {
   "cell_type": "code",
   "execution_count": 172,
   "id": "331bbad1",
   "metadata": {},
   "outputs": [],
   "source": [
    "# Функция для разделения данных\n",
    "def evaluate_model(split_ratio):\n",
    "    X_train, X_test, y_train, y_test = train_test_split(X, y, test_size=split_ratio, random_state=42)\n",
    "    \n",
    "    # пайплайн для обработки данных и модели\n",
    "    numerical_pipeline = Pipeline(steps=[\n",
    "        ('imputer', SimpleImputer(strategy='median')),\n",
    "        ('scaler', StandardScaler())\n",
    "    ])\n",
    "    \n",
    "    categorical_pipeline = Pipeline(steps=[\n",
    "        ('imputer', SimpleImputer(strategy='most_frequent')),\n",
    "        ('onehot', OneHotEncoder(handle_unknown='ignore'))\n",
    "    ])\n",
    "    \n",
    "    preprocessor = ColumnTransformer(\n",
    "        transformers=[\n",
    "            ('num', numerical_pipeline, numerical_features),\n",
    "            ('cat', categorical_pipeline, categorical_features)\n",
    "        ])\n",
    "    \n",
    "    model_pipeline = Pipeline(steps=[\n",
    "        ('preprocessor', preprocessor),\n",
    "        ('classifier', LogisticRegression(max_iter=1000))\n",
    "    ])\n",
    "    \n",
    "    # Обучение модели\n",
    "    model_pipeline.fit(X_train, y_train)\n",
    "    \n",
    "    # оценка точности модели\n",
    "    y_pred = model_pipeline.predict(X_test)\n",
    "    accuracy = accuracy_score(y_test, y_pred)\n",
    "    return accuracy\n"
   ]
  },
  {
   "cell_type": "code",
   "execution_count": 170,
   "id": "5e5ba7b1",
   "metadata": {},
   "outputs": [
    {
     "name": "stdout",
     "output_type": "stream",
     "text": [
      "Точность модели при разделении 80-20: 0.8620689655172413\n",
      "Точность модели при разделении 70-30: 0.8620689655172413\n"
     ]
    }
   ],
   "source": [
    "\n",
    "# Оценка точности модели при разделении 80-20 и 70-30\n",
    "accuracy_80 = evaluate_model(0.2)\n",
    "print(f\"Точность модели при разделении 80-20: {accuracy_80}\")\n",
    "\n",
    "accuracy_70 = evaluate_model(0.3)\n",
    "print(f\"Точность модели при разделении 70-30: {accuracy_70}\")"
   ]
  },
  {
   "cell_type": "code",
   "execution_count": null,
   "id": "8e2f98fc",
   "metadata": {},
   "outputs": [],
   "source": []
  }
 ],
 "metadata": {
  "kernelspec": {
   "display_name": "Python 3 (ipykernel)",
   "language": "python",
   "name": "python3"
  },
  "language_info": {
   "codemirror_mode": {
    "name": "ipython",
    "version": 3
   },
   "file_extension": ".py",
   "mimetype": "text/x-python",
   "name": "python",
   "nbconvert_exporter": "python",
   "pygments_lexer": "ipython3",
   "version": "3.9.12"
  }
 },
 "nbformat": 4,
 "nbformat_minor": 5
}
