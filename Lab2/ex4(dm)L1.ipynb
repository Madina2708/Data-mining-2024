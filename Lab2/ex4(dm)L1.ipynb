{
 "cells": [
  {
   "cell_type": "code",
   "execution_count": 89,
   "id": "1e2e06cf",
   "metadata": {},
   "outputs": [],
   "source": [
    "import numpy as np \n",
    "import matplotlib.pyplot as plt \n",
    "from sklearn.datasets import load_diabetes \n",
    "from sklearn.model_selection import train_test_split \n",
    "from sklearn.linear_model import Lasso  #Lasso-регрессия\n",
    "from sklearn.metrics import mean_squared_error"
   ]
  },
  {
   "cell_type": "code",
   "execution_count": 90,
   "id": "9f9afc42",
   "metadata": {},
   "outputs": [],
   "source": [
    "data = load_diabetes()\n",
    "X = data.data\n",
    "y = data.target\n",
    "#Загружаем данные о болезни,обозначаем признаки и цел переменную"
   ]
  },
  {
   "cell_type": "code",
   "execution_count": 91,
   "id": "968fd140",
   "metadata": {},
   "outputs": [],
   "source": [
    "#80/20\n",
    "X_train, X_test, y_train, y_test = train_test_split(X, y, test_size=0.2, random_state=42)"
   ]
  },
  {
   "cell_type": "code",
   "execution_count": 92,
   "id": "9e890795",
   "metadata": {},
   "outputs": [
    {
     "data": {
      "text/plain": [
       "Lasso(alpha=0.1)"
      ]
     },
     "execution_count": 92,
     "metadata": {},
     "output_type": "execute_result"
    }
   ],
   "source": [
    "lasso = Lasso(alpha=0.1)\n",
    "lasso.fit(X_train, y_train)"
   ]
  },
  {
   "cell_type": "code",
   "execution_count": 93,
   "id": "b5bc2758",
   "metadata": {},
   "outputs": [],
   "source": [
    "selected_features = np.abs(lasso.coef_) > 0"
   ]
  },
  {
   "cell_type": "code",
   "execution_count": 94,
   "id": "7b613a55",
   "metadata": {},
   "outputs": [
    {
     "name": "stdout",
     "output_type": "stream",
     "text": [
      "Выбранные признаки:\n",
      "sex\n",
      "bmi\n",
      "bp\n",
      "s1\n",
      "s3\n",
      "s5\n",
      "s6\n"
     ]
    }
   ],
   "source": [
    "print(\"Выбранные признаки:\")\n",
    "for feature, is_selected in zip(data.feature_names, selected_features):\n",
    "    if is_selected:\n",
    "        print(feature)\n"
   ]
  },
  {
   "cell_type": "code",
   "execution_count": 95,
   "id": "aa829362",
   "metadata": {},
   "outputs": [
    {
     "data": {
      "text/plain": [
       "Lasso(alpha=0.1)"
      ]
     },
     "execution_count": 95,
     "metadata": {},
     "output_type": "execute_result"
    }
   ],
   "source": [
    "X_train_selected = X_train[:, selected_features]  \n",
    "X_test_selected = X_test[:, selected_features]   \n",
    "lasso.fit(X_train_selected, y_train)"
   ]
  },
  {
   "cell_type": "code",
   "execution_count": 96,
   "id": "bcd2f440",
   "metadata": {},
   "outputs": [
    {
     "name": "stdout",
     "output_type": "stream",
     "text": [
      "Среднеквадратичная ошибка модели на тестовой выборке: 2798.24\n"
     ]
    }
   ],
   "source": [
    "y_pred = lasso.predict(X_test_selected)\n",
    "mse = mean_squared_error(y_test, y_pred)\n",
    "print(f\"Среднеквадратичная ошибка модели на тестовой выборке: {mse:.2f}\")"
   ]
  },
  {
   "cell_type": "code",
   "execution_count": 97,
   "id": "113f5b7d",
   "metadata": {},
   "outputs": [],
   "source": [
    "selected_coefficients = lasso.coef_ #теперь коэффициенты соответствуют выбранным признакам\n"
   ]
  },
  {
   "cell_type": "code",
   "execution_count": 99,
   "id": "a41714c4",
   "metadata": {},
   "outputs": [
    {
     "data": {
      "image/png": "[encoded data removed]",
      "text/plain": [
       "<Figure size 864x432 with 1 Axes>"
      ]
     },
     "metadata": {
      "needs_background": "light"
     },
     "output_type": "display_data"
    }
   ],
   "source": [
    "plt.figure(figsize=(12, 6))\n",
    "plt.bar(np.array(data.feature_names)[selected_features], selected_coefficients)\n",
    "plt.title(\"Коэффициенты Lasso для выбранных признаков\")\n",
    "plt.xlabel(\"Признаки\")\n",
    "plt.ylabel(\"Коэффициенты\")\n",
    "plt.xticks(rotation=45)#для лучшей читаемости\n",
    "\n",
    "plt.axhline(0, color='black', lw=1) #линия по y для нуля\n",
    "plt.show()"
   ]
  },
  {
   "cell_type": "code",
   "execution_count": null,
   "id": "92de4b12",
   "metadata": {},
   "outputs": [],
   "source": []
  },
  {
   "cell_type": "code",
   "execution_count": null,
   "id": "d6004ecd",
   "metadata": {},
   "outputs": [],
   "source": []
  }
 ],
 "metadata": {
  "kernelspec": {
   "display_name": "Python 3 (ipykernel)",
   "language": "python",
   "name": "python3"
  },
  "language_info": {
   "codemirror_mode": {
    "name": "ipython",
    "version": 3
   },
   "file_extension": ".py",
   "mimetype": "text/x-python",
   "name": "python",
   "nbconvert_exporter": "python",
   "pygments_lexer": "ipython3",
   "version": "3.9.12"
  }
 },
 "nbformat": 4,
 "nbformat_minor": 5
}
