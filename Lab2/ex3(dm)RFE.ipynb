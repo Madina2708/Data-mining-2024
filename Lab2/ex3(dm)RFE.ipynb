{
 "cells": [
  {
   "cell_type": "code",
   "execution_count": 1,
   "id": "a494f643",
   "metadata": {},
   "outputs": [],
   "source": [
    "from sklearn.datasets import load_breast_cancer  \n",
    "from sklearn.model_selection import train_test_split \n",
    "from sklearn.svm import SVC  \n",
    "from sklearn.feature_selection import RFE  # Для рекурсивного исключения признаков\n",
    "from sklearn.metrics import accuracy_score\n",
    "import pandas as pd  \n"
   ]
  },
  {
   "cell_type": "code",
   "execution_count": 2,
   "id": "7032c06b",
   "metadata": {},
   "outputs": [],
   "source": [
    "data = load_breast_cancer()"
   ]
  },
  {
   "cell_type": "code",
   "execution_count": 3,
   "id": "3feb3420",
   "metadata": {},
   "outputs": [],
   "source": [
    "X = data.data  #характеристики опухолей\n",
    "y = data.target  # 0-злокачественная, 1 -доброкачественная\n"
   ]
  },
  {
   "cell_type": "code",
   "execution_count": 4,
   "id": "eeb78a43",
   "metadata": {},
   "outputs": [],
   "source": [
    "# 80 на обучение, 20 на тестирование\n",
    "X_train, X_test, y_train, y_test = train_test_split(X, y, test_size=0.2, random_state=42)"
   ]
  },
  {
   "cell_type": "code",
   "execution_count": 5,
   "id": "dcbee51f",
   "metadata": {},
   "outputs": [],
   "source": [
    "# классификатор SVM создаем\n",
    "svm = SVC(kernel='linear')  "
   ]
  },
  {
   "cell_type": "code",
   "execution_count": 6,
   "id": "16834b96",
   "metadata": {},
   "outputs": [
    {
     "data": {
      "text/plain": [
       "RFE(estimator=SVC(kernel='linear'), n_features_to_select=10)"
      ]
     },
     "execution_count": 6,
     "metadata": {},
     "output_type": "execute_result"
    }
   ],
   "source": [
    "#RFE для выбора признаков исп\n",
    "rfe = RFE(estimator=svm, n_features_to_select=10) # выбираем 10 наиболее важных \n",
    "rfe.fit(X_train, y_train)"
   ]
  },
  {
   "cell_type": "code",
   "execution_count": 8,
   "id": "482f6ecc",
   "metadata": {},
   "outputs": [
    {
     "name": "stdout",
     "output_type": "stream",
     "text": [
      "Выбранные признаки:\n",
      "mean radius\n",
      "mean concavity\n",
      "mean concave points\n",
      "texture error\n",
      "worst radius\n",
      "worst smoothness\n",
      "worst compactness\n",
      "worst concavity\n",
      "worst concave points\n",
      "worst symmetry\n"
     ]
    }
   ],
   "source": [
    "selected_features = rfe.support_ \n",
    "print(\"Выбранные признаки:\")\n",
    "for feature in data.feature_names[selected_features]:\n",
    "    print(feature) "
   ]
  },
  {
   "cell_type": "code",
   "execution_count": 9,
   "id": "48a95dcc",
   "metadata": {},
   "outputs": [
    {
     "data": {
      "text/plain": [
       "SVC(kernel='linear')"
      ]
     },
     "execution_count": 9,
     "metadata": {},
     "output_type": "execute_result"
    }
   ],
   "source": [
    "#обучаем модель SVM с выбранными признаками\n",
    "X_train_selected = rfe.transform(X_train)  #обучения\n",
    "X_test_selected = rfe.transform(X_test)  #тест\n",
    "svm.fit(X_train_selected, y_train)  #обучаем модель"
   ]
  },
  {
   "cell_type": "code",
   "execution_count": 10,
   "id": "81ffc09c",
   "metadata": {},
   "outputs": [],
   "source": [
    "y_pred = svm.predict(X_test_selected)"
   ]
  },
  {
   "cell_type": "code",
   "execution_count": 11,
   "id": "4cd5adc9",
   "metadata": {},
   "outputs": [
    {
     "name": "stdout",
     "output_type": "stream",
     "text": [
      "Точность модели на тестовой выборке: 0.97\n"
     ]
    }
   ],
   "source": [
    "#оценка производительности модели\n",
    "accuracy = accuracy_score(y_test, y_pred)  #рассчет точности\n",
    "print(f\"Точность модели на тестовой выборке: {accuracy:.2f}\")"
   ]
  },
  {
   "cell_type": "code",
   "execution_count": null,
   "id": "da37b66c",
   "metadata": {},
   "outputs": [],
   "source": []
  }
 ],
 "metadata": {
  "kernelspec": {
   "display_name": "Python 3 (ipykernel)",
   "language": "python",
   "name": "python3"
  },
  "language_info": {
   "codemirror_mode": {
    "name": "ipython",
    "version": 3
   },
   "file_extension": ".py",
   "mimetype": "text/x-python",
   "name": "python",
   "nbconvert_exporter": "python",
   "pygments_lexer": "ipython3",
   "version": "3.9.12"
  }
 },
 "nbformat": 4,
 "nbformat_minor": 5
}
